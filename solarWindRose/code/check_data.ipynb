{
 "cells": [
  {
   "cell_type": "markdown",
   "metadata": {},
   "source": [
    "# Check Data\n",
    "Check that the coordinates are basically what I expect them to be. Cut and paste a set of data from HORIZONS into an excel file for ease."
   ]
  },
  {
   "cell_type": "code",
   "execution_count": 1,
   "metadata": {},
   "outputs": [
    {
     "name": "stderr",
     "output_type": "stream",
     "text": [
      "C:\\Users\\david\\Miniconda3\\lib\\site-packages\\rpy2\\robjects\\pandas2ri.py:17: FutureWarning: pandas.core.index is deprecated and will be removed in a future version.  The public classes are available in the top-level namespace.\n",
      "  from pandas.core.index import Index as PandasIndex\n"
     ]
    }
   ],
   "source": [
    "%load_ext rpy2.ipython\n",
    "from rpy2.robjects import r\n",
    "\n",
    "import os\n",
    "os.chdir(\"../data\")"
   ]
  },
  {
   "cell_type": "code",
   "execution_count": 2,
   "metadata": {},
   "outputs": [],
   "source": [
    "%%R\n",
    "# setwd(\"../data\")\n",
    "packages <- c(\"ggplot2\", \"dplyr\", \"tidyr\")\n",
    "lapply(packages, require, character.only=T)"
   ]
  },
  {
   "cell_type": "code",
   "execution_count": 37,
   "metadata": {},
   "outputs": [],
   "source": [
    "%%R\n",
    "# earth center, frame\n",
    "data <- read.csv(\"wld18677.15.csv\")\n",
    "data$date <- as.Date(gsub(\" A.D. | 00:00:00.0000\", \"\", as.character(data$Calendar.Date..TDB.)), format=\"%Y-%b-%d\")\n",
    "str(data)"
   ]
  },
  {
   "cell_type": "code",
   "execution_count": 38,
   "metadata": {},
   "outputs": [
    {
     "data": {
      "image/png": "[encoded data removed]"
     },
     "metadata": {},
     "output_type": "display_data"
    }
   ],
   "source": [
    "%%R\n",
    "ggplot(data, aes(x=X, y=Y, colour=date))+\n",
    "geom_point()"
   ]
  },
  {
   "cell_type": "code",
   "execution_count": 14,
   "metadata": {},
   "outputs": [],
   "source": [
    "%%R\n",
    "unique(data$date)"
   ]
  },
  {
   "cell_type": "code",
   "execution_count": 15,
   "metadata": {},
   "outputs": [],
   "source": [
    "%%R\n",
    "# sun center, frame\n",
    "data <- read.csv(\"wld26141_suncenter.15.csv\")\n",
    "data$date <- as.Date(gsub(\" A.D. | 00:00:00.0000\", \"\", as.character(data$Calendar.Date..TDB.)), format=\"%Y-%b-%d\")\n",
    "str(data)"
   ]
  },
  {
   "cell_type": "code",
   "execution_count": 16,
   "metadata": {},
   "outputs": [
    {
     "data": {
      "image/png": "[encoded data removed]"
     },
     "metadata": {},
     "output_type": "display_data"
    }
   ],
   "source": [
    "%%R\n",
    "ggplot(data, aes(x=X, y=Y))+\n",
    "geom_point(colour=\"darkred\")"
   ]
  },
  {
   "cell_type": "code",
   "execution_count": 40,
   "metadata": {},
   "outputs": [],
   "source": [
    "%%R\n",
    "mars <- read.csv(\"wld26141_suncenter.15.csv\")\n",
    "mars$date <- as.Date(gsub(\" A.D. | 00:00:00.0000\", \"\", as.character(mars$Calendar.Date..TDB.)), format=\"%Y-%b-%d\")\n",
    "# sun center, frame of earth\n",
    "earth <- read.csv(\"wld12686_suncenter_viewearth.15.csv\")\n",
    "earth$date <- as.Date(gsub(\" A.D. | 00:00:00.0000\", \"\", as.character(earth$Calendar.Date..TDB.)), format=\"%Y-%b-%d\")\n",
    "data <- rbind(earth, mars)\n",
    "\n",
    "data$planet <- rep(c(\"earth\",\"mars\"), c(nrow(mars), nrow(earth)))"
   ]
  },
  {
   "cell_type": "code",
   "execution_count": 41,
   "metadata": {},
   "outputs": [
    {
     "data": {
      "image/png": "[encoded data removed]"
     },
     "metadata": {},
     "output_type": "display_data"
    }
   ],
   "source": [
    "%%R\n",
    "ggplot(data, aes(x=X, y=Y, colour=date, group=date))+\n",
    "geom_point()+\n",
    "geom_line()"
   ]
  },
  {
   "cell_type": "code",
   "execution_count": null,
   "metadata": {},
   "outputs": [],
   "source": []
  },
  {
   "cell_type": "code",
   "execution_count": 21,
   "metadata": {},
   "outputs": [],
   "source": [
    "%%R\n",
    "head(data)"
   ]
  },
  {
   "cell_type": "code",
   "execution_count": 7,
   "metadata": {},
   "outputs": [],
   "source": [
    "%%R\n",
    "# sun center, eclip\n",
    "data <- read.csv(\"wld4866sun_eclip.15.csv\")\n",
    "data$date <- as.Date(gsub(\" A.D. | 00:00:00.0000\", \"\", as.character(data$Calendar.Date..TDB.)), format=\"%Y-%b-%d\")\n",
    "str(data)"
   ]
  },
  {
   "cell_type": "code",
   "execution_count": 8,
   "metadata": {},
   "outputs": [
    {
     "data": {
      "image/png": "[encoded data removed]"
     },
     "metadata": {},
     "output_type": "display_data"
    }
   ],
   "source": [
    "%%R\n",
    "ggplot(data, aes(x=X, y=Y))+\n",
    "geom_point(colour=\"darkred\")"
   ]
  },
  {
   "cell_type": "code",
   "execution_count": 9,
   "metadata": {
    "scrolled": false
   },
   "outputs": [
    {
     "data": {
      "image/png": "[encoded data removed]"
     },
     "metadata": {},
     "output_type": "display_data"
    }
   ],
   "source": [
    "%%R\n",
    "ggplot(data, aes(x=date, y=Y))+\n",
    "geom_point(colour=\"darkred\")"
   ]
  },
  {
   "cell_type": "code",
   "execution_count": 10,
   "metadata": {},
   "outputs": [],
   "source": [
    "%%R\n",
    "unique(data$date)"
   ]
  },
  {
   "cell_type": "code",
   "execution_count": null,
   "metadata": {},
   "outputs": [],
   "source": []
  }
 ],
 "metadata": {
  "kernelspec": {
   "display_name": "Python 3",
   "language": "python",
   "name": "python3"
  },
  "language_info": {
   "codemirror_mode": {
    "name": "ipython",
    "version": 3
   },
   "file_extension": ".py",
   "mimetype": "text/x-python",
   "name": "python",
   "nbconvert_exporter": "python",
   "pygments_lexer": "ipython3",
   "version": "3.7.4"
  }
 },
 "nbformat": 4,
 "nbformat_minor": 4
}
