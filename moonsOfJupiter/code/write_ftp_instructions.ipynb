{
 "cells": [
  {
   "cell_type": "markdown",
   "metadata": {},
   "source": [
    "# Write `ftp` instructions\n",
    "Files can be downloaded via `ftp` using windows cmd or bash. To download over bash mode must be chagned to passive using `pass`.\n",
    "## Windows"
   ]
  },
  {
   "cell_type": "code",
   "execution_count": 19,
   "metadata": {},
   "outputs": [],
   "source": [
    "import os"
   ]
  },
  {
   "cell_type": "code",
   "execution_count": 20,
   "metadata": {},
   "outputs": [],
   "source": [
    "os.chdir(\"../data\")"
   ]
  },
  {
   "cell_type": "code",
   "execution_count": 21,
   "metadata": {},
   "outputs": [
    {
     "data": {
      "text/plain": [
       "'wld25846.15'"
      ]
     },
     "execution_count": 21,
     "metadata": {},
     "output_type": "execute_result"
    }
   ],
   "source": [
    "# Open file with ephemeris file name\n",
    "with open(\"ephemeris_file_name.txt\", \"r\") as f:\n",
    "    # The name is the first line,\n",
    "    # strip the white space\n",
    "    ephemeris_file_name = f.readlines()[0].strip()\n",
    "ephemeris_file_name"
   ]
  },
  {
   "cell_type": "code",
   "execution_count": 22,
   "metadata": {},
   "outputs": [],
   "source": [
    "instructions = [\n",
    "    \"open ssd.jpl.nasa.gov\\n\",\n",
    "    \"ftp\\n\",\n",
    "    \"ftp\\n\",\n",
    "    \"cd /pub/ssd/\\n\",\n",
    "    \"get \" + ephemeris_file_name + \" ephemeris/\" + ephemeris_file_name + \"\\n\",\n",
    "    \"quit\"\n",
    "]"
   ]
  },
  {
   "cell_type": "code",
   "execution_count": 23,
   "metadata": {},
   "outputs": [],
   "source": [
    "with open(\"ftp_instructions_windows.txt\", \"w\") as f:\n",
    "    for instruction in instructions:\n",
    "        f.write(instruction)"
   ]
  },
  {
   "cell_type": "markdown",
   "metadata": {},
   "source": [
    "## BASH"
   ]
  },
  {
   "cell_type": "code",
   "execution_count": 44,
   "metadata": {},
   "outputs": [],
   "source": [
    "import os"
   ]
  },
  {
   "cell_type": "code",
   "execution_count": 45,
   "metadata": {},
   "outputs": [],
   "source": [
    "os.chdir(\"../data\")"
   ]
  },
  {
   "cell_type": "code",
   "execution_count": 46,
   "metadata": {},
   "outputs": [
    {
     "data": {
      "text/plain": [
       "'wld25846.15'"
      ]
     },
     "execution_count": 46,
     "metadata": {},
     "output_type": "execute_result"
    }
   ],
   "source": [
    "# Open file with ephemeris file name\n",
    "with open(\"ephemeris_file_name.txt\", \"r\") as f:\n",
    "    # The name is the first line,\n",
    "    # strip the white space\n",
    "    ephemeris_file_name = f.readlines()[0].strip()\n",
    "ephemeris_file_name"
   ]
  },
  {
   "cell_type": "code",
   "execution_count": 49,
   "metadata": {},
   "outputs": [],
   "source": [
    "instructions = [\n",
    "    \"#!/bin/sh\\n\",\n",
    "    \"HOST='ssd.jpl.nasa.gov'\\n\",\n",
    "    \"USER='ftp'\\n\",\n",
    "    \"PASSWD='ftp'\\n\",\n",
    "    \"FILE='%s'\\n\"%(ephemeris_file_name),\n",
    "    \"\\n\",\n",
    "    \"ftp -n $HOST <<END_SCRIPT\\n\",\n",
    "    \"quote USER $USER\\n\",\n",
    "    \"quote PASS $PASSWD\\n\",\n",
    "    \"pass\\n\",\n",
    "    \"cd /pub/ssd/\\n\",\n",
    "#     \"get $FILE ephemeris/%s\\n\" %(ephemeris_file_name),\n",
    "    \"get $FILE ephemeris/$FILE\\n\",\n",
    "    \"quit\\n\",\n",
    "    \"END_SCRIPT\\n\",\n",
    "    \"exit 0\\n\"\n",
    "]"
   ]
  },
  {
   "cell_type": "code",
   "execution_count": 51,
   "metadata": {},
   "outputs": [],
   "source": [
    "with open(\"ftp_instructions_bash.txt\", \"wb\") as f:\n",
    "    for instruction in instructions:\n",
    "        f.write(bytes(instruction, \"UTF-8\"))"
   ]
  },
  {
   "cell_type": "code",
   "execution_count": null,
   "metadata": {},
   "outputs": [],
   "source": []
  }
 ],
 "metadata": {
  "kernelspec": {
   "display_name": "Python 3",
   "language": "python",
   "name": "python3"
  },
  "language_info": {
   "codemirror_mode": {
    "name": "ipython",
    "version": 3
   },
   "file_extension": ".py",
   "mimetype": "text/x-python",
   "name": "python",
   "nbconvert_exporter": "python",
   "pygments_lexer": "ipython3",
   "version": "3.7.4"
  }
 },
 "nbformat": 4,
 "nbformat_minor": 4
}
